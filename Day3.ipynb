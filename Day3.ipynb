{
 "cells": [
  {
   "cell_type": "markdown",
   "metadata": {},
   "source": [
    "### Question 1:\n",
    "You might find it easy.\n",
    "Given a byte, swap the two nibbles in it. For example 100 is be represented as 01100100 in a byte (or 8 bits). The two nibbles are (0110) and (0100). If we swap the two nibbles, we get 01000110 which is 70 in decimal.\n"
   ]
  },
  {
   "cell_type": "code",
   "execution_count": 2,
   "metadata": {},
   "outputs": [
    {
     "name": "stdout",
     "output_type": "stream",
     "text": [
      "01100100\n",
      "824388\n"
     ]
    }
   ],
   "source": [
    "def Bin(n):\n",
    "    b = bin(n).replace(\"0b\", \"\")\n",
    "    nu = \"0\"+b\n",
    "    s1 = nu[:4]\n",
    "    s2 = nu[4:]\n",
    "    s1 , s2 = s2 , s1\n",
    "    num = s1 + s2\n",
    "    print(int(num, 2))\n",
    "    \n",
    "n = int(input())\n",
    "Bin(n)"
   ]
  },
  {
   "cell_type": "code",
   "execution_count": 4,
   "metadata": {},
   "outputs": [
    {
     "name": "stdout",
     "output_type": "stream",
     "text": [
      "70\n"
     ]
    }
   ],
   "source": [
    "def swapNibble(x): \n",
    "    return ( (x & 0x0F)<<4 | (x & 0xF0)>>4 ) \n",
    "x = 100\n",
    "print(swapNibble(x)) "
   ]
  },
  {
   "cell_type": "markdown",
   "metadata": {},
   "source": [
    "## Given an array arr of N integers. Find the contiguous sub-array with maximum sum."
   ]
  },
  {
   "cell_type": "code",
   "execution_count": 4,
   "metadata": {},
   "outputs": [
    {
     "name": "stdout",
     "output_type": "stream",
     "text": [
      "1 2 3\n",
      "6\n"
     ]
    }
   ],
   "source": [
    "def maxSum(a,size): \n",
    "      \n",
    "    maxfar =a[0] \n",
    "    currmax = a[0] \n",
    "      \n",
    "    for i in range(1,size): \n",
    "        currmax = max(a[i], currmax + a[i]) \n",
    "        maxfar = max(maxfar,currmax) \n",
    "          \n",
    "    return maxfar \n",
    "\n",
    "a=[int(i) for i in input().split()]\n",
    "print(maxSum(a,len(a)))"
   ]
  },
  {
   "cell_type": "code",
   "execution_count": null,
   "metadata": {},
   "outputs": [],
   "source": []
  }
 ],
 "metadata": {
  "kernelspec": {
   "display_name": "Python 3",
   "language": "python",
   "name": "python3"
  },
  "language_info": {
   "codemirror_mode": {
    "name": "ipython",
    "version": 3
   },
   "file_extension": ".py",
   "mimetype": "text/x-python",
   "name": "python",
   "nbconvert_exporter": "python",
   "pygments_lexer": "ipython3",
   "version": "3.7.3"
  }
 },
 "nbformat": 4,
 "nbformat_minor": 2
}
