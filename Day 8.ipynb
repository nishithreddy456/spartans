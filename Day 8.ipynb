{
 "cells": [
  {
   "cell_type": "markdown",
   "metadata": {},
   "source": [
    "Problem 1:\n",
    "Hey, Have you heard of russian peasant algorithm? No, it's okay. Just think of how will you be able to multiply two numbers using bitwise operations. Yeah, you can't use this \"*\" operator to multiply. Can you think of it? Just try it out"
   ]
  },
  {
   "cell_type": "code",
   "execution_count": 2,
   "metadata": {},
   "outputs": [
    {
     "name": "stdout",
     "output_type": "stream",
     "text": [
      "18\n",
      "240\n"
     ]
    }
   ],
   "source": [
    "def russianPeasant(a, b): \n",
    "  \n",
    "    res = 0 \n",
    "    while (b > 0): \n",
    "      \n",
    "        \n",
    "        if (b & 1): \n",
    "            res = res + a \n",
    "        a = a << 1\n",
    "        b = b >> 1\n",
    "      \n",
    "    return res \n",
    "print(russianPeasant(18, 1)) \n",
    "print(russianPeasant(20, 12)) "
   ]
  },
  {
   "cell_type": "code",
   "execution_count": 7,
   "metadata": {},
   "outputs": [
    {
     "name": "stdout",
     "output_type": "stream",
     "text": [
      "0\n"
     ]
    }
   ],
   "source": [
    "b=8\n",
    "c=b & 1\n",
    "print(c)"
   ]
  },
  {
   "cell_type": "markdown",
   "metadata": {},
   "source": [
    "\n",
    "Given an unsigned integer N. The task is to swap all odd bits with even bits. For example, if the given number is 23 (00010111), it should be converted to 43(00101011). Here, every even position bit is swapped with adjacent bit on right side(even position bits are highlighted in binary representation of 23), and every odd position bit is swapped with adjacent on left side.\n",
    "\n",
    "Input:\n",
    "The first line of input contains T, denoting the number of testcases. Each testcase contains single line.\n",
    "\n",
    "Output:\n",
    "For each testcase in new line, print the converted number.\n",
    "\n",
    "Constraints:\n",
    "1 ≤ T ≤ 100\n",
    "1 ≤ N ≤ 100\n",
    "\n",
    "Example:\n",
    "Input:\n",
    "2\n",
    "23\n",
    "2\n",
    "\n",
    "Output:\n",
    "43\n",
    "1\n",
    "\n",
    "Explanation:\n",
    "Testcase 1: BInary representation of the given number; 00010111 after swapping 0010101"
   ]
  },
  {
   "cell_type": "code",
   "execution_count": 8,
   "metadata": {},
   "outputs": [
    {
     "name": "stdout",
     "output_type": "stream",
     "text": [
      "43\n"
     ]
    }
   ],
   "source": [
    "\n",
    "def swapBits(x) : \n",
    "      \n",
    "  \n",
    "    even_bits = x & 0xAAAAAAAA\n",
    "  \n",
    "  \n",
    "    odd_bits = x & 0x55555555\n",
    "      \n",
    "   \n",
    "    even_bits >>= 1\n",
    "   \n",
    "    odd_bits <<= 1 \n",
    "    return (even_bits | odd_bits)  \n",
    "x = 23\n",
    "print(swapBits(x)) \n",
    "  "
   ]
  },
  {
   "cell_type": "code",
   "execution_count": null,
   "metadata": {},
   "outputs": [],
   "source": []
  }
 ],
 "metadata": {
  "kernelspec": {
   "display_name": "Python 3",
   "language": "python",
   "name": "python3"
  },
  "language_info": {
   "codemirror_mode": {
    "name": "ipython",
    "version": 3
   },
   "file_extension": ".py",
   "mimetype": "text/x-python",
   "name": "python",
   "nbconvert_exporter": "python",
   "pygments_lexer": "ipython3",
   "version": "3.7.3"
  }
 },
 "nbformat": 4,
 "nbformat_minor": 2
}
