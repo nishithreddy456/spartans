{
 "cells": [
  {
   "cell_type": "markdown",
   "metadata": {},
   "source": [
    " #### Reverse the bits of an 32 bit unsigned integer A."
   ]
  },
  {
   "cell_type": "code",
   "execution_count": 1,
   "metadata": {},
   "outputs": [
    {
     "name": "stdout",
     "output_type": "stream",
     "text": [
      "5\n",
      "2684354560\n"
     ]
    }
   ],
   "source": [
    "def rev(n):\n",
    "    size = 32\n",
    "    binary = bin(n)\n",
    "    reverse = binary[-1:1:-1]\n",
    "    reverse = reverse + (size-len(reverse))*'0'\n",
    "    print(int(reverse,2))\n",
    "\n",
    "n = int(input())\n",
    "rev(n)"
   ]
  },
  {
   "cell_type": "code",
   "execution_count": 6,
   "metadata": {},
   "outputs": [
    {
     "name": "stdout",
     "output_type": "stream",
     "text": [
      "1260388352\n"
     ]
    }
   ],
   "source": [
    "def bit(a):\n",
    "    result=0\n",
    "    for i in range(32):\n",
    "        result<<=1\n",
    "        result |=a&1\n",
    "        a>>=1\n",
    "    return result\n",
    "print(bit(1234))"
   ]
  },
  {
   "cell_type": "markdown",
   "metadata": {},
   "source": [
    "###  Given an integer array A of N integers, find the pair of integers in the array which have minimum XOR value. Report the minimum XOR value"
   ]
  },
  {
   "cell_type": "code",
   "execution_count": null,
   "metadata": {},
   "outputs": [],
   "source": [
    "def XOR(a,n):\n",
    "    a.sort()\n",
    "    b = 2**30\n",
    "    t = 0\n",
    "    for i in range(0, n-1):\n",
    "        t = a[i] ^ a[i+1]\n",
    "        b = min(b,t)\n",
    "    return b\n",
    " \n",
    "arr = list(map(int, input().strip().split()))\n",
    "n = len(arr)\n",
    "print(XOR(arr,n))"
   ]
  },
  {
   "cell_type": "code",
   "execution_count": null,
   "metadata": {},
   "outputs": [],
   "source": []
  },
  {
   "cell_type": "code",
   "execution_count": null,
   "metadata": {},
   "outputs": [],
   "source": []
  }
 ],
 "metadata": {
  "kernelspec": {
   "display_name": "Python 3",
   "language": "python",
   "name": "python3"
  },
  "language_info": {
   "codemirror_mode": {
    "name": "ipython",
    "version": 3
   },
   "file_extension": ".py",
   "mimetype": "text/x-python",
   "name": "python",
   "nbconvert_exporter": "python",
   "pygments_lexer": "ipython3",
   "version": "3.7.3"
  }
 },
 "nbformat": 4,
 "nbformat_minor": 2
}
