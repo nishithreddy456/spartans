{
 "cells": [
  {
   "cell_type": "markdown",
   "metadata": {},
   "source": [
    "### \n",
    "Problem 1:\n",
    "Given a collection of numbers, return all possible permutations.\n",
    "\n",
    "Example:\n",
    "\n",
    "[1,2,3] will have the following permutations:\n",
    "\n",
    "[1,2,3]\n",
    "[1,3,2]\n",
    "[2,1,3] \n",
    "[2,3,1] \n",
    "[3,1,2] \n",
    "[3,2,1]\n",
    "\n",
    "->No two entries in the permutation sequence should be the same.\n",
    "->For the purpose of this problem, assume that all the numbers in the collection are unique."
   ]
  },
  {
   "cell_type": "code",
   "execution_count": 1,
   "metadata": {},
   "outputs": [
    {
     "name": "stdout",
     "output_type": "stream",
     "text": [
      "[1, 2, 3]\n",
      "[[3, 2, 1], [2, 3, 1], [2, 1, 3], [3, 1, 2], [1, 3, 2], [1, 2, 3]]\n"
     ]
    }
   ],
   "source": [
    "def permute(nums):\n",
    "    result = [[]]\n",
    "    for n in nums:\n",
    "        new = []\n",
    "        for perm in result:\n",
    "            for i in range(len(perm)+1):\n",
    "                new.append(perm[:i] + [n] + perm[i:])\n",
    "                result = new\n",
    "    return result\n",
    "\n",
    "num =[1,2,3]\n",
    "print(num)\n",
    "print(permute(num))"
   ]
  },
  {
   "cell_type": "code",
   "execution_count": null,
   "metadata": {},
   "outputs": [],
   "source": []
  }
 ],
 "metadata": {
  "kernelspec": {
   "display_name": "Python 3",
   "language": "python",
   "name": "python3"
  },
  "language_info": {
   "codemirror_mode": {
    "name": "ipython",
    "version": 3
   },
   "file_extension": ".py",
   "mimetype": "text/x-python",
   "name": "python",
   "nbconvert_exporter": "python",
   "pygments_lexer": "ipython3",
   "version": "3.7.3"
  }
 },
 "nbformat": 4,
 "nbformat_minor": 2
}
