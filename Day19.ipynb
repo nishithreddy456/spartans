{
 "cells": [
  {
   "cell_type": "code",
   "execution_count": null,
   "metadata": {},
   "outputs": [],
   "source": [
    "def sec(a):\n",
    "    i=0\n",
    "    if(i==len(a)//2):\n",
    "        return True\n",
    "    elif(a[i]!=a[len(a)-1-i]):\n",
    "        return False\n",
    "    else:\n",
    "        return True\n",
    "a=[1,1,0,0]\n",
    "print(sec(a))"
   ]
  },
  {
   "cell_type": "markdown",
   "metadata": {},
   "source": [
    "### Problem 1:\n",
    "Given an array of integers a and an integer n, returns the number of occurrences of n in a.\n",
    "For example, the call occurrences({1,2,3,2,4,2}, 2) should return 3.\n"
   ]
  },
  {
   "cell_type": "code",
   "execution_count": null,
   "metadata": {},
   "outputs": [],
   "source": [
    "def occurance(a):\n",
    "    \n",
    "    if(i==len(a)):\n",
    "        return 0\n",
    "    elif(a[i]==n):\n",
    "        return 1+occurance(a,n,i+1)\n",
    "    else:\n",
    "        return occurance(a)\n",
    "    \n",
    "a=[1,2,3,2,2]\n",
    "n=0\n",
    "i=0\n",
    "print(occurance(a))\n",
    "        "
   ]
  },
  {
   "cell_type": "code",
   "execution_count": 5,
   "metadata": {},
   "outputs": [
    {
     "name": "stdout",
     "output_type": "stream",
     "text": [
      "3\n"
     ]
    }
   ],
   "source": [
    "def occurrences(a, n, x): \n",
    "    res = 0\n",
    "    for i in range(n): \n",
    "        if x == a[i]: \n",
    "            res += 1\n",
    "    return res \n",
    "   \n",
    "\n",
    "a = [1,2,3,2,4,2] \n",
    "n = len(a) \n",
    "x = 2\n",
    "print (occurrences(a, n, x)) "
   ]
  },
  {
   "cell_type": "markdown",
   "metadata": {},
   "source": [
    "### Problem 2:\n",
    "Given an array of integers a, inverts the positions of its elements.\n",
    "For example, the call invert(a), where a is a reference to the array {1, 2, 3, 4}, should modify the array in such a way that a refers to {4, 3, 2, 1}."
   ]
  },
  {
   "cell_type": "code",
   "execution_count": null,
   "metadata": {},
   "outputs": [],
   "source": []
  }
 ],
 "metadata": {
  "kernelspec": {
   "display_name": "Python 3",
   "language": "python",
   "name": "python3"
  },
  "language_info": {
   "codemirror_mode": {
    "name": "ipython",
    "version": 3
   },
   "file_extension": ".py",
   "mimetype": "text/x-python",
   "name": "python",
   "nbconvert_exporter": "python",
   "pygments_lexer": "ipython3",
   "version": "3.7.3"
  }
 },
 "nbformat": 4,
 "nbformat_minor": 2
}
