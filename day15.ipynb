{
 "cells": [
  {
   "cell_type": "code",
   "execution_count": 3,
   "metadata": {},
   "outputs": [
    {
     "name": "stdout",
     "output_type": "stream",
     "text": [
      "abcabcbb\n",
      "abc\n"
     ]
    }
   ],
   "source": [
    "def unique_substr(S):\n",
    " \n",
    "    last = {} \n",
    "    longest_len = 0\n",
    "    longest_pos = 0\n",
    "    curr_starting_pos = 0\n",
    "    curr_length = 0\n",
    "\n",
    "    for k, c in enumerate(S):\n",
    "        l = last.get(c, -1)\n",
    "    \n",
    "        if l < curr_starting_pos: \n",
    "            curr_length += 1\n",
    "        else:\n",
    "        \n",
    "            if curr_length > longest_len: \n",
    "                longest_pos = curr_starting_pos\n",
    "                longest_len = curr_length\n",
    "            curr_length -= l - curr_starting_pos\n",
    "            curr_starting_pos = l + 1\n",
    "        last[c] = k\n",
    "    if curr_length > longest_len:\n",
    "        longest_pos = curr_starting_pos\n",
    "        longest_len = curr_length\n",
    "\n",
    "    return S[longest_pos:longest_pos + longest_len]\n",
    "\n",
    "n=input()\n",
    "print(unique_substr(n))"
   ]
  },
  {
   "cell_type": "markdown",
   "metadata": {},
   "source": [
    "###### Day 15:\n",
    "Problem 1:\n",
    "Given a string, find the length of the longest sub-string without repeating characters. For example, the longest sub-strings without repeating characters for “ABDEFGABEF” are “BDEFGA” and “DEFGAB”, with length 6.\n",
    "\n",
    "Example 1:\n",
    "\n",
    "Input: \"abcabcbb\"\n",
    "Output: 3 \n",
    "Explanation: The answer is \"abc\", with the length of 3. \n",
    "Example 2:\n",
    "\n",
    "Input: \"bbbbb\"\n",
    "Output: 1\n",
    "Explanation: The answer is \"b\", with the length of 1.\n",
    "Example 3:\n",
    "\n",
    "Input: \"pwwkew\"\n",
    "Output: 3\n",
    "Explanation: The answer is \"wke\", with the length of 3. \n",
    "             Note that the answer must be a substring, \"pwke\" is a subsequence and not a substring.\n",
    "\n",
    "This problem is quite popular but solving it with brute force can be easy, but try with sliding window approach to reduce the complexity."
   ]
  },
  {
   "cell_type": "code",
   "execution_count": null,
   "metadata": {},
   "outputs": [],
   "source": []
  }
 ],
 "metadata": {
  "kernelspec": {
   "display_name": "Python 3",
   "language": "python",
   "name": "python3"
  },
  "language_info": {
   "codemirror_mode": {
    "name": "ipython",
    "version": 3
   },
   "file_extension": ".py",
   "mimetype": "text/x-python",
   "name": "python",
   "nbconvert_exporter": "python",
   "pygments_lexer": "ipython3",
   "version": "3.7.3"
  }
 },
 "nbformat": 4,
 "nbformat_minor": 2
}
