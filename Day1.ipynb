{
 "cells": [
  {
   "cell_type": "code",
   "execution_count": 2,
   "metadata": {},
   "outputs": [
    {
     "name": "stdout",
     "output_type": "stream",
     "text": [
      "8\n",
      "The power of the number to be calculated is: 2\n",
      "8  is a power of the number desired.\n"
     ]
    }
   ],
   "source": [
    "import math\n",
    "def powertwo(num):\n",
    "  x = int(input(\"The power of the number to be calculated is: \"))\n",
    "  output = math.log(num, x)\n",
    "  residue = output - int(output)\n",
    "  if residue == 0:\n",
    "    print (num, \" is a power of the number desired.\")\n",
    "  else:\n",
    "    print (num, \" is not a power of the number desired.\")\n",
    "y = powertwo(int(input()))"
   ]
  },
  {
   "cell_type": "markdown",
   "metadata": {},
   "source": [
    "### How to check if a given number is a power of 2 ?\n"
   ]
  },
  {
   "cell_type": "code",
   "execution_count": 3,
   "metadata": {},
   "outputs": [
    {
     "name": "stdout",
     "output_type": "stream",
     "text": [
      "Enter a number: 8\n",
      "8 is a power of two.\n"
     ]
    }
   ],
   "source": [
    "def powertwo(n):\n",
    "    if n <= 0:\n",
    "        return False\n",
    "    else:\n",
    "        return n & (n - 1) == 0\n",
    "  \n",
    "n = int(input('Enter a number: '))\n",
    " \n",
    "if powertwo(n):\n",
    "    print('{} is a power of two.'.format(n))\n",
    "else:\n",
    "    print('{} is not a power of two.'.format(n))"
   ]
  },
  {
   "cell_type": "markdown",
   "metadata": {},
   "source": [
    "#### 2) Count the number of ones in the binary representation of the given number."
   ]
  },
  {
   "cell_type": "code",
   "execution_count": 1,
   "metadata": {},
   "outputs": [
    {
     "name": "stdout",
     "output_type": "stream",
     "text": [
      "141\n",
      "4\n"
     ]
    }
   ],
   "source": [
    "def bitcount(n):\n",
    "    count = 0\n",
    "    while n > 0:\n",
    "        count = count + 1\n",
    "        n = n & (n-1)\n",
    "    return count\n",
    "n = int(input())\n",
    "print(bitcount(n))"
   ]
  },
  {
   "cell_type": "markdown",
   "metadata": {},
   "source": [
    "#### 3) Check if the i th bit is set in the binary form of the given number.\n"
   ]
  },
  {
   "cell_type": "code",
   "execution_count": 5,
   "metadata": {},
   "outputs": [
    {
     "name": "stdout",
     "output_type": "stream",
     "text": [
      "1\n",
      "2\n",
      "not set\n"
     ]
    }
   ],
   "source": [
    "def kset(a,b):\n",
    "    if a&(1<<(b-1)):\n",
    "        print(\"set\")\n",
    "    else:\n",
    "        print(\"not set\")\n",
    "a=int(input())\n",
    "b=int(input())\n",
    "kset(a,b)"
   ]
  },
  {
   "cell_type": "code",
   "execution_count": null,
   "metadata": {},
   "outputs": [],
   "source": []
  }
 ],
 "metadata": {
  "kernelspec": {
   "display_name": "Python 3",
   "language": "python",
   "name": "python3"
  },
  "language_info": {
   "codemirror_mode": {
    "name": "ipython",
    "version": 3
   },
   "file_extension": ".py",
   "mimetype": "text/x-python",
   "name": "python",
   "nbconvert_exporter": "python",
   "pygments_lexer": "ipython3",
   "version": "3.7.3"
  }
 },
 "nbformat": 4,
 "nbformat_minor": 2
}
